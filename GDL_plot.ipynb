{
  "cells": [
    {
      "cell_type": "code",
      "execution_count": 2,
      "metadata": {
        "colab": {
          "base_uri": "https://localhost:8080/"
        },
        "id": "xJwaWoSrYVk3",
        "outputId": "68d53fbb-8b7e-4258-fd04-db6a741b0f0a"
      },
      "outputs": [
        {
          "output_type": "stream",
          "name": "stdout",
          "text": [
            "Cloning into 'tsl'...\n",
            "remote: Enumerating objects: 578, done.\u001b[K\n",
            "remote: Counting objects: 100% (62/62), done.\u001b[K\n",
            "remote: Compressing objects: 100% (13/13), done.\u001b[K\n",
            "remote: Total 578 (delta 57), reused 49 (delta 49), pack-reused 516\u001b[K\n",
            "Receiving objects: 100% (578/578), 205.53 KiB | 13.70 MiB/s, done.\n",
            "Resolving deltas: 100% (314/314), done.\n",
            "Looking in links: https://download.pytorch.org/whl/torch_stable.html\n",
            "Collecting torch==1.10.1+cu111\n",
            "  Downloading https://download.pytorch.org/whl/cu111/torch-1.10.1%2Bcu111-cp37-cp37m-linux_x86_64.whl (2137.7 MB)\n",
            "\u001b[K     |████████████▌                   | 834.1 MB 1.4 MB/s eta 0:15:28tcmalloc: large alloc 1147494400 bytes == 0x39b7a000 @  0x7fe0b9762615 0x592b76 0x4df71e 0x59afff 0x515655 0x549576 0x593fce 0x548ae9 0x51566f 0x549576 0x593fce 0x548ae9 0x5127f1 0x598e3b 0x511f68 0x598e3b 0x511f68 0x598e3b 0x511f68 0x4bc98a 0x532e76 0x594b72 0x515600 0x549576 0x593fce 0x548ae9 0x5127f1 0x549576 0x593fce 0x5118f8 0x593dd7\n",
            "\u001b[K     |███████████████▉                | 1055.7 MB 1.3 MB/s eta 0:14:25tcmalloc: large alloc 1434370048 bytes == 0x7e1d0000 @  0x7fe0b9762615 0x592b76 0x4df71e 0x59afff 0x515655 0x549576 0x593fce 0x548ae9 0x51566f 0x549576 0x593fce 0x548ae9 0x5127f1 0x598e3b 0x511f68 0x598e3b 0x511f68 0x598e3b 0x511f68 0x4bc98a 0x532e76 0x594b72 0x515600 0x549576 0x593fce 0x548ae9 0x5127f1 0x549576 0x593fce 0x5118f8 0x593dd7\n",
            "\u001b[K     |████████████████████            | 1336.2 MB 1.2 MB/s eta 0:11:21tcmalloc: large alloc 1792966656 bytes == 0x3002000 @  0x7fe0b9762615 0x592b76 0x4df71e 0x59afff 0x515655 0x549576 0x593fce 0x548ae9 0x51566f 0x549576 0x593fce 0x548ae9 0x5127f1 0x598e3b 0x511f68 0x598e3b 0x511f68 0x598e3b 0x511f68 0x4bc98a 0x532e76 0x594b72 0x515600 0x549576 0x593fce 0x548ae9 0x5127f1 0x549576 0x593fce 0x5118f8 0x593dd7\n",
            "\u001b[K     |█████████████████████████▎      | 1691.1 MB 1.5 MB/s eta 0:04:54tcmalloc: large alloc 2241208320 bytes == 0x6ddea000 @  0x7fe0b9762615 0x592b76 0x4df71e 0x59afff 0x515655 0x549576 0x593fce 0x548ae9 0x51566f 0x549576 0x593fce 0x548ae9 0x5127f1 0x598e3b 0x511f68 0x598e3b 0x511f68 0x598e3b 0x511f68 0x4bc98a 0x532e76 0x594b72 0x515600 0x549576 0x593fce 0x548ae9 0x5127f1 0x549576 0x593fce 0x5118f8 0x593dd7\n",
            "\u001b[K     |████████████████████████████████| 2137.7 MB 1.2 MB/s eta 0:00:01tcmalloc: large alloc 2137653248 bytes == 0xf374c000 @  0x7fe0b97611e7 0x4a3940 0x4a39cc 0x592b76 0x4df71e 0x59afff 0x515655 0x549576 0x593fce 0x511e2c 0x549576 0x593fce 0x511e2c 0x549576 0x593fce 0x511e2c 0x549576 0x593fce 0x511e2c 0x549576 0x593fce 0x511e2c 0x593dd7 0x511e2c 0x549576 0x593fce 0x548ae9 0x5127f1 0x549576 0x593fce 0x548ae9\n",
            "tcmalloc: large alloc 2672066560 bytes == 0x1e7270000 @  0x7fe0b9762615 0x592b76 0x4df71e 0x59afff 0x515655 0x549576 0x593fce 0x511e2c 0x549576 0x593fce 0x511e2c 0x549576 0x593fce 0x511e2c 0x549576 0x593fce 0x511e2c 0x549576 0x593fce 0x511e2c 0x593dd7 0x511e2c 0x549576 0x593fce 0x548ae9 0x5127f1 0x549576 0x593fce 0x548ae9 0x5127f1 0x549576\n",
            "\u001b[K     |████████████████████████████████| 2137.7 MB 401 bytes/s \n",
            "\u001b[?25hCollecting torchvision==0.11.2+cu111\n",
            "  Downloading https://download.pytorch.org/whl/cu111/torchvision-0.11.2%2Bcu111-cp37-cp37m-linux_x86_64.whl (24.5 MB)\n",
            "\u001b[K     |████████████████████████████████| 24.5 MB 1.3 MB/s \n",
            "\u001b[?25hCollecting torchaudio==0.10.1\n",
            "  Downloading https://download.pytorch.org/whl/rocm4.1/torchaudio-0.10.1%2Brocm4.1-cp37-cp37m-linux_x86_64.whl (2.7 MB)\n",
            "\u001b[K     |████████████████████████████████| 2.7 MB 7.3 MB/s \n",
            "\u001b[?25hRequirement already satisfied: typing-extensions in /usr/local/lib/python3.7/dist-packages (from torch==1.10.1+cu111) (4.2.0)\n",
            "Requirement already satisfied: numpy in /usr/local/lib/python3.7/dist-packages (from torchvision==0.11.2+cu111) (1.21.6)\n",
            "Requirement already satisfied: pillow!=8.3.0,>=5.3.0 in /usr/local/lib/python3.7/dist-packages (from torchvision==0.11.2+cu111) (7.1.2)\n",
            "Installing collected packages: torch, torchvision, torchaudio\n",
            "  Attempting uninstall: torch\n",
            "    Found existing installation: torch 1.11.0+cu113\n",
            "    Uninstalling torch-1.11.0+cu113:\n",
            "      Successfully uninstalled torch-1.11.0+cu113\n",
            "  Attempting uninstall: torchvision\n",
            "    Found existing installation: torchvision 0.12.0+cu113\n",
            "    Uninstalling torchvision-0.12.0+cu113:\n",
            "      Successfully uninstalled torchvision-0.12.0+cu113\n",
            "  Attempting uninstall: torchaudio\n",
            "    Found existing installation: torchaudio 0.11.0+cu113\n",
            "    Uninstalling torchaudio-0.11.0+cu113:\n",
            "      Successfully uninstalled torchaudio-0.11.0+cu113\n",
            "\u001b[31mERROR: pip's dependency resolver does not currently take into account all the packages that are installed. This behaviour is the source of the following dependency conflicts.\n",
            "torchtext 0.12.0 requires torch==1.11.0, but you have torch 1.10.1+cu111 which is incompatible.\u001b[0m\n",
            "Successfully installed torch-1.10.1+cu111 torchaudio-0.10.1+rocm4.1 torchvision-0.11.2+cu111\n",
            "Looking in links: https://data.pyg.org/whl/torch-1.10.1+cu113.html\n",
            "Collecting torch-scatter\n",
            "  Downloading https://data.pyg.org/whl/torch-1.10.0%2Bcu113/torch_scatter-2.0.9-cp37-cp37m-linux_x86_64.whl (7.9 MB)\n",
            "\u001b[K     |████████████████████████████████| 7.9 MB 3.4 MB/s \n",
            "\u001b[?25hCollecting torch-sparse\n",
            "  Downloading https://data.pyg.org/whl/torch-1.10.0%2Bcu113/torch_sparse-0.6.13-cp37-cp37m-linux_x86_64.whl (3.5 MB)\n",
            "\u001b[K     |████████████████████████████████| 3.5 MB 48.7 MB/s \n",
            "\u001b[?25hCollecting torch-geometric\n",
            "  Downloading torch_geometric-2.0.4.tar.gz (407 kB)\n",
            "\u001b[K     |████████████████████████████████| 407 kB 31.5 MB/s \n",
            "\u001b[?25hRequirement already satisfied: scipy in /usr/local/lib/python3.7/dist-packages (from torch-sparse) (1.4.1)\n",
            "Requirement already satisfied: tqdm in /usr/local/lib/python3.7/dist-packages (from torch-geometric) (4.64.0)\n",
            "Requirement already satisfied: numpy in /usr/local/lib/python3.7/dist-packages (from torch-geometric) (1.21.6)\n",
            "Requirement already satisfied: pandas in /usr/local/lib/python3.7/dist-packages (from torch-geometric) (1.3.5)\n",
            "Requirement already satisfied: jinja2 in /usr/local/lib/python3.7/dist-packages (from torch-geometric) (2.11.3)\n",
            "Requirement already satisfied: requests in /usr/local/lib/python3.7/dist-packages (from torch-geometric) (2.23.0)\n",
            "Requirement already satisfied: pyparsing in /usr/local/lib/python3.7/dist-packages (from torch-geometric) (3.0.9)\n",
            "Requirement already satisfied: scikit-learn in /usr/local/lib/python3.7/dist-packages (from torch-geometric) (1.0.2)\n",
            "Requirement already satisfied: MarkupSafe>=0.23 in /usr/local/lib/python3.7/dist-packages (from jinja2->torch-geometric) (2.0.1)\n",
            "Requirement already satisfied: python-dateutil>=2.7.3 in /usr/local/lib/python3.7/dist-packages (from pandas->torch-geometric) (2.8.2)\n",
            "Requirement already satisfied: pytz>=2017.3 in /usr/local/lib/python3.7/dist-packages (from pandas->torch-geometric) (2022.1)\n",
            "Requirement already satisfied: six>=1.5 in /usr/local/lib/python3.7/dist-packages (from python-dateutil>=2.7.3->pandas->torch-geometric) (1.15.0)\n",
            "Requirement already satisfied: chardet<4,>=3.0.2 in /usr/local/lib/python3.7/dist-packages (from requests->torch-geometric) (3.0.4)\n",
            "Requirement already satisfied: urllib3!=1.25.0,!=1.25.1,<1.26,>=1.21.1 in /usr/local/lib/python3.7/dist-packages (from requests->torch-geometric) (1.24.3)\n",
            "Requirement already satisfied: idna<3,>=2.5 in /usr/local/lib/python3.7/dist-packages (from requests->torch-geometric) (2.10)\n",
            "Requirement already satisfied: certifi>=2017.4.17 in /usr/local/lib/python3.7/dist-packages (from requests->torch-geometric) (2021.10.8)\n",
            "Requirement already satisfied: joblib>=0.11 in /usr/local/lib/python3.7/dist-packages (from scikit-learn->torch-geometric) (1.1.0)\n",
            "Requirement already satisfied: threadpoolctl>=2.0.0 in /usr/local/lib/python3.7/dist-packages (from scikit-learn->torch-geometric) (3.1.0)\n",
            "Building wheels for collected packages: torch-geometric\n",
            "  Building wheel for torch-geometric (setup.py) ... \u001b[?25l\u001b[?25hdone\n",
            "  Created wheel for torch-geometric: filename=torch_geometric-2.0.4-py3-none-any.whl size=616603 sha256=13bd400957d9afd8ff9ff18fa418c4539a1e8b7efc569062fdc4a1ac44856212\n",
            "  Stored in directory: /root/.cache/pip/wheels/18/a6/a4/ca18c3051fcead866fe7b85700ee2240d883562a1bc70ce421\n",
            "Successfully built torch-geometric\n",
            "Installing collected packages: torch-sparse, torch-scatter, torch-geometric\n",
            "Successfully installed torch-geometric-2.0.4 torch-scatter-2.0.9 torch-sparse-0.6.13\n",
            "Processing ./tsl\n",
            "\u001b[33m  DEPRECATION: A future pip version will change local packages to be built in-place without first copying to a temporary directory. We recommend you use --use-feature=in-tree-build to test your packages with this new behavior before it becomes the default.\n",
            "   pip 21.3 will remove support for this functionality. You can find discussion regarding this at https://github.com/pypa/pip/issues/7555.\u001b[0m\n",
            "Collecting einops\n",
            "  Downloading einops-0.4.1-py3-none-any.whl (28 kB)\n",
            "Requirement already satisfied: numpy in /usr/local/lib/python3.7/dist-packages (from torch-spatiotemporal==0.1.0) (1.21.6)\n",
            "Requirement already satisfied: pandas in /usr/local/lib/python3.7/dist-packages (from torch-spatiotemporal==0.1.0) (1.3.5)\n",
            "Collecting pytorch_lightning>=1.5\n",
            "  Downloading pytorch_lightning-1.6.3-py3-none-any.whl (584 kB)\n",
            "\u001b[K     |████████████████████████████████| 584 kB 28.7 MB/s \n",
            "\u001b[?25hRequirement already satisfied: PyYAML in /usr/local/lib/python3.7/dist-packages (from torch-spatiotemporal==0.1.0) (3.13)\n",
            "Requirement already satisfied: scikit_learn in /usr/local/lib/python3.7/dist-packages (from torch-spatiotemporal==0.1.0) (1.0.2)\n",
            "Requirement already satisfied: scipy in /usr/local/lib/python3.7/dist-packages (from torch-spatiotemporal==0.1.0) (1.4.1)\n",
            "Requirement already satisfied: tables in /usr/local/lib/python3.7/dist-packages (from torch-spatiotemporal==0.1.0) (3.7.0)\n",
            "Collecting test_tube\n",
            "  Downloading test_tube-0.7.5.tar.gz (21 kB)\n",
            "Requirement already satisfied: torch>=1.9 in /usr/local/lib/python3.7/dist-packages (from torch-spatiotemporal==0.1.0) (1.10.1+cu111)\n",
            "Requirement already satisfied: torch_geometric>=2.0 in /usr/local/lib/python3.7/dist-packages (from torch-spatiotemporal==0.1.0) (2.0.4)\n",
            "Collecting torchmetrics>=0.7\n",
            "  Downloading torchmetrics-0.8.2-py3-none-any.whl (409 kB)\n",
            "\u001b[K     |████████████████████████████████| 409 kB 54.5 MB/s \n",
            "\u001b[?25hRequirement already satisfied: tqdm in /usr/local/lib/python3.7/dist-packages (from torch-spatiotemporal==0.1.0) (4.64.0)\n",
            "Collecting fsspec[http]!=2021.06.0,>=2021.05.0\n",
            "  Downloading fsspec-2022.3.0-py3-none-any.whl (136 kB)\n",
            "\u001b[K     |████████████████████████████████| 136 kB 65.1 MB/s \n",
            "\u001b[?25hCollecting PyYAML\n",
            "  Downloading PyYAML-6.0-cp37-cp37m-manylinux_2_5_x86_64.manylinux1_x86_64.manylinux_2_12_x86_64.manylinux2010_x86_64.whl (596 kB)\n",
            "\u001b[K     |████████████████████████████████| 596 kB 76.9 MB/s \n",
            "\u001b[?25hRequirement already satisfied: packaging>=17.0 in /usr/local/lib/python3.7/dist-packages (from pytorch_lightning>=1.5->torch-spatiotemporal==0.1.0) (21.3)\n",
            "Requirement already satisfied: typing-extensions>=4.0.0 in /usr/local/lib/python3.7/dist-packages (from pytorch_lightning>=1.5->torch-spatiotemporal==0.1.0) (4.2.0)\n",
            "Requirement already satisfied: tensorboard>=2.2.0 in /usr/local/lib/python3.7/dist-packages (from pytorch_lightning>=1.5->torch-spatiotemporal==0.1.0) (2.8.0)\n",
            "Collecting pyDeprecate<0.4.0,>=0.3.1\n",
            "  Downloading pyDeprecate-0.3.2-py3-none-any.whl (10 kB)\n",
            "Collecting aiohttp\n",
            "  Downloading aiohttp-3.8.1-cp37-cp37m-manylinux_2_5_x86_64.manylinux1_x86_64.manylinux_2_12_x86_64.manylinux2010_x86_64.whl (1.1 MB)\n",
            "\u001b[K     |████████████████████████████████| 1.1 MB 63.0 MB/s \n",
            "\u001b[?25hRequirement already satisfied: requests in /usr/local/lib/python3.7/dist-packages (from fsspec[http]!=2021.06.0,>=2021.05.0->pytorch_lightning>=1.5->torch-spatiotemporal==0.1.0) (2.23.0)\n",
            "Requirement already satisfied: pyparsing!=3.0.5,>=2.0.2 in /usr/local/lib/python3.7/dist-packages (from packaging>=17.0->pytorch_lightning>=1.5->torch-spatiotemporal==0.1.0) (3.0.9)\n",
            "Requirement already satisfied: setuptools>=41.0.0 in /usr/local/lib/python3.7/dist-packages (from tensorboard>=2.2.0->pytorch_lightning>=1.5->torch-spatiotemporal==0.1.0) (57.4.0)\n",
            "Requirement already satisfied: google-auth-oauthlib<0.5,>=0.4.1 in /usr/local/lib/python3.7/dist-packages (from tensorboard>=2.2.0->pytorch_lightning>=1.5->torch-spatiotemporal==0.1.0) (0.4.6)\n",
            "Requirement already satisfied: google-auth<3,>=1.6.3 in /usr/local/lib/python3.7/dist-packages (from tensorboard>=2.2.0->pytorch_lightning>=1.5->torch-spatiotemporal==0.1.0) (1.35.0)\n",
            "Requirement already satisfied: tensorboard-data-server<0.7.0,>=0.6.0 in /usr/local/lib/python3.7/dist-packages (from tensorboard>=2.2.0->pytorch_lightning>=1.5->torch-spatiotemporal==0.1.0) (0.6.1)\n",
            "Requirement already satisfied: grpcio>=1.24.3 in /usr/local/lib/python3.7/dist-packages (from tensorboard>=2.2.0->pytorch_lightning>=1.5->torch-spatiotemporal==0.1.0) (1.46.1)\n",
            "Requirement already satisfied: tensorboard-plugin-wit>=1.6.0 in /usr/local/lib/python3.7/dist-packages (from tensorboard>=2.2.0->pytorch_lightning>=1.5->torch-spatiotemporal==0.1.0) (1.8.1)\n",
            "Requirement already satisfied: markdown>=2.6.8 in /usr/local/lib/python3.7/dist-packages (from tensorboard>=2.2.0->pytorch_lightning>=1.5->torch-spatiotemporal==0.1.0) (3.3.7)\n",
            "Requirement already satisfied: protobuf>=3.6.0 in /usr/local/lib/python3.7/dist-packages (from tensorboard>=2.2.0->pytorch_lightning>=1.5->torch-spatiotemporal==0.1.0) (3.17.3)\n",
            "Requirement already satisfied: werkzeug>=0.11.15 in /usr/local/lib/python3.7/dist-packages (from tensorboard>=2.2.0->pytorch_lightning>=1.5->torch-spatiotemporal==0.1.0) (1.0.1)\n",
            "Requirement already satisfied: absl-py>=0.4 in /usr/local/lib/python3.7/dist-packages (from tensorboard>=2.2.0->pytorch_lightning>=1.5->torch-spatiotemporal==0.1.0) (1.0.0)\n",
            "Requirement already satisfied: wheel>=0.26 in /usr/local/lib/python3.7/dist-packages (from tensorboard>=2.2.0->pytorch_lightning>=1.5->torch-spatiotemporal==0.1.0) (0.37.1)\n",
            "Requirement already satisfied: six in /usr/local/lib/python3.7/dist-packages (from absl-py>=0.4->tensorboard>=2.2.0->pytorch_lightning>=1.5->torch-spatiotemporal==0.1.0) (1.15.0)\n",
            "Requirement already satisfied: cachetools<5.0,>=2.0.0 in /usr/local/lib/python3.7/dist-packages (from google-auth<3,>=1.6.3->tensorboard>=2.2.0->pytorch_lightning>=1.5->torch-spatiotemporal==0.1.0) (4.2.4)\n",
            "Requirement already satisfied: pyasn1-modules>=0.2.1 in /usr/local/lib/python3.7/dist-packages (from google-auth<3,>=1.6.3->tensorboard>=2.2.0->pytorch_lightning>=1.5->torch-spatiotemporal==0.1.0) (0.2.8)\n",
            "Requirement already satisfied: rsa<5,>=3.1.4 in /usr/local/lib/python3.7/dist-packages (from google-auth<3,>=1.6.3->tensorboard>=2.2.0->pytorch_lightning>=1.5->torch-spatiotemporal==0.1.0) (4.8)\n",
            "Requirement already satisfied: requests-oauthlib>=0.7.0 in /usr/local/lib/python3.7/dist-packages (from google-auth-oauthlib<0.5,>=0.4.1->tensorboard>=2.2.0->pytorch_lightning>=1.5->torch-spatiotemporal==0.1.0) (1.3.1)\n",
            "Requirement already satisfied: importlib-metadata>=4.4 in /usr/local/lib/python3.7/dist-packages (from markdown>=2.6.8->tensorboard>=2.2.0->pytorch_lightning>=1.5->torch-spatiotemporal==0.1.0) (4.11.3)\n",
            "Requirement already satisfied: zipp>=0.5 in /usr/local/lib/python3.7/dist-packages (from importlib-metadata>=4.4->markdown>=2.6.8->tensorboard>=2.2.0->pytorch_lightning>=1.5->torch-spatiotemporal==0.1.0) (3.8.0)\n",
            "Requirement already satisfied: pyasn1<0.5.0,>=0.4.6 in /usr/local/lib/python3.7/dist-packages (from pyasn1-modules>=0.2.1->google-auth<3,>=1.6.3->tensorboard>=2.2.0->pytorch_lightning>=1.5->torch-spatiotemporal==0.1.0) (0.4.8)\n",
            "Requirement already satisfied: chardet<4,>=3.0.2 in /usr/local/lib/python3.7/dist-packages (from requests->fsspec[http]!=2021.06.0,>=2021.05.0->pytorch_lightning>=1.5->torch-spatiotemporal==0.1.0) (3.0.4)\n",
            "Requirement already satisfied: idna<3,>=2.5 in /usr/local/lib/python3.7/dist-packages (from requests->fsspec[http]!=2021.06.0,>=2021.05.0->pytorch_lightning>=1.5->torch-spatiotemporal==0.1.0) (2.10)\n",
            "Requirement already satisfied: urllib3!=1.25.0,!=1.25.1,<1.26,>=1.21.1 in /usr/local/lib/python3.7/dist-packages (from requests->fsspec[http]!=2021.06.0,>=2021.05.0->pytorch_lightning>=1.5->torch-spatiotemporal==0.1.0) (1.24.3)\n",
            "Requirement already satisfied: certifi>=2017.4.17 in /usr/local/lib/python3.7/dist-packages (from requests->fsspec[http]!=2021.06.0,>=2021.05.0->pytorch_lightning>=1.5->torch-spatiotemporal==0.1.0) (2021.10.8)\n",
            "Requirement already satisfied: oauthlib>=3.0.0 in /usr/local/lib/python3.7/dist-packages (from requests-oauthlib>=0.7.0->google-auth-oauthlib<0.5,>=0.4.1->tensorboard>=2.2.0->pytorch_lightning>=1.5->torch-spatiotemporal==0.1.0) (3.2.0)\n",
            "Requirement already satisfied: jinja2 in /usr/local/lib/python3.7/dist-packages (from torch_geometric>=2.0->torch-spatiotemporal==0.1.0) (2.11.3)\n",
            "Requirement already satisfied: charset-normalizer<3.0,>=2.0 in /usr/local/lib/python3.7/dist-packages (from aiohttp->fsspec[http]!=2021.06.0,>=2021.05.0->pytorch_lightning>=1.5->torch-spatiotemporal==0.1.0) (2.0.12)\n",
            "Collecting frozenlist>=1.1.1\n",
            "  Downloading frozenlist-1.3.0-cp37-cp37m-manylinux_2_5_x86_64.manylinux1_x86_64.manylinux_2_17_x86_64.manylinux2014_x86_64.whl (144 kB)\n",
            "\u001b[K     |████████████████████████████████| 144 kB 73.9 MB/s \n",
            "\u001b[?25hCollecting aiosignal>=1.1.2\n",
            "  Downloading aiosignal-1.2.0-py3-none-any.whl (8.2 kB)\n",
            "Collecting yarl<2.0,>=1.0\n",
            "  Downloading yarl-1.7.2-cp37-cp37m-manylinux_2_5_x86_64.manylinux1_x86_64.manylinux_2_12_x86_64.manylinux2010_x86_64.whl (271 kB)\n",
            "\u001b[K     |████████████████████████████████| 271 kB 75.9 MB/s \n",
            "\u001b[?25hCollecting async-timeout<5.0,>=4.0.0a3\n",
            "  Downloading async_timeout-4.0.2-py3-none-any.whl (5.8 kB)\n",
            "Collecting asynctest==0.13.0\n",
            "  Downloading asynctest-0.13.0-py3-none-any.whl (26 kB)\n",
            "Requirement already satisfied: attrs>=17.3.0 in /usr/local/lib/python3.7/dist-packages (from aiohttp->fsspec[http]!=2021.06.0,>=2021.05.0->pytorch_lightning>=1.5->torch-spatiotemporal==0.1.0) (21.4.0)\n",
            "Collecting multidict<7.0,>=4.5\n",
            "  Downloading multidict-6.0.2-cp37-cp37m-manylinux_2_17_x86_64.manylinux2014_x86_64.whl (94 kB)\n",
            "\u001b[K     |████████████████████████████████| 94 kB 3.8 MB/s \n",
            "\u001b[?25hRequirement already satisfied: MarkupSafe>=0.23 in /usr/local/lib/python3.7/dist-packages (from jinja2->torch_geometric>=2.0->torch-spatiotemporal==0.1.0) (2.0.1)\n",
            "Requirement already satisfied: python-dateutil>=2.7.3 in /usr/local/lib/python3.7/dist-packages (from pandas->torch-spatiotemporal==0.1.0) (2.8.2)\n",
            "Requirement already satisfied: pytz>=2017.3 in /usr/local/lib/python3.7/dist-packages (from pandas->torch-spatiotemporal==0.1.0) (2022.1)\n",
            "Requirement already satisfied: joblib>=0.11 in /usr/local/lib/python3.7/dist-packages (from scikit_learn->torch-spatiotemporal==0.1.0) (1.1.0)\n",
            "Requirement already satisfied: threadpoolctl>=2.0.0 in /usr/local/lib/python3.7/dist-packages (from scikit_learn->torch-spatiotemporal==0.1.0) (3.1.0)\n",
            "Requirement already satisfied: numexpr>=2.6.2 in /usr/local/lib/python3.7/dist-packages (from tables->torch-spatiotemporal==0.1.0) (2.8.1)\n",
            "Requirement already satisfied: imageio>=2.3.0 in /usr/local/lib/python3.7/dist-packages (from test_tube->torch-spatiotemporal==0.1.0) (2.4.1)\n",
            "Requirement already satisfied: future in /usr/local/lib/python3.7/dist-packages (from test_tube->torch-spatiotemporal==0.1.0) (0.16.0)\n",
            "Requirement already satisfied: pillow in /usr/local/lib/python3.7/dist-packages (from imageio>=2.3.0->test_tube->torch-spatiotemporal==0.1.0) (7.1.2)\n",
            "Building wheels for collected packages: torch-spatiotemporal, test-tube\n",
            "  Building wheel for torch-spatiotemporal (setup.py) ... \u001b[?25l\u001b[?25hdone\n",
            "  Created wheel for torch-spatiotemporal: filename=torch_spatiotemporal-0.1.0-py3-none-any.whl size=157010 sha256=64457a8f33a40b7fee522967fcf4eae2e115a88d4b415e03a05e6f4f0c0513b0\n",
            "  Stored in directory: /tmp/pip-ephem-wheel-cache-p_mc9aa4/wheels/b4/a3/9b/9ade23f88ef4ab1d0e40c003fcaa8053b6b3ed9d1e82630a5c\n",
            "  Building wheel for test-tube (setup.py) ... \u001b[?25l\u001b[?25hdone\n",
            "  Created wheel for test-tube: filename=test_tube-0.7.5-py3-none-any.whl size=25356 sha256=5bf39ef7585f689416d7cf5704b3db9b2b146f1818c2e39ed1b0ec247dd2b6f6\n",
            "  Stored in directory: /root/.cache/pip/wheels/1c/50/0d/15b3236957cc18a5c39ec4d4d4d21624f4d4a876756ec17064\n",
            "Successfully built torch-spatiotemporal test-tube\n",
            "Installing collected packages: multidict, frozenlist, yarl, asynctest, async-timeout, aiosignal, pyDeprecate, fsspec, aiohttp, torchmetrics, PyYAML, test-tube, pytorch-lightning, einops, torch-spatiotemporal\n",
            "  Attempting uninstall: PyYAML\n",
            "    Found existing installation: PyYAML 3.13\n",
            "    Uninstalling PyYAML-3.13:\n",
            "      Successfully uninstalled PyYAML-3.13\n",
            "Successfully installed PyYAML-6.0 aiohttp-3.8.1 aiosignal-1.2.0 async-timeout-4.0.2 asynctest-0.13.0 einops-0.4.1 frozenlist-1.3.0 fsspec-2022.3.0 multidict-6.0.2 pyDeprecate-0.3.2 pytorch-lightning-1.6.3 test-tube-0.7.5 torch-spatiotemporal-0.1.0 torchmetrics-0.8.2 yarl-1.7.2\n"
          ]
        }
      ],
      "source": [
        "!git clone https://github.com/TorchSpatiotemporal/tsl.git\n",
        "!pip install torch==1.10.1+cu111 torchvision==0.11.2+cu111 torchaudio==0.10.1 -f https://download.pytorch.org/whl/torch_stable.html\n",
        "!pip install torch-scatter torch-sparse torch-geometric -f https://data.pyg.org/whl/torch-1.10.1+cu113.html\n",
        "!pip install ./tsl"
      ]
    },
    {
      "cell_type": "code",
      "execution_count": 1,
      "metadata": {
        "colab": {
          "base_uri": "https://localhost:8080/"
        },
        "id": "hLAxpbejYVk4",
        "outputId": "6a5733b5-ab35-4cb7-bb07-4a5795f99efe"
      },
      "outputs": [
        {
          "output_type": "stream",
          "name": "stdout",
          "text": [
            "tsl version  : 0.1.0\n",
            "torch version: 1.10.1+cu111\n"
          ]
        }
      ],
      "source": [
        "import tsl\n",
        "import torch\n",
        "import numpy as np\n",
        "import seaborn as sns\n",
        "import matplotlib.pyplot as plt\n",
        "\n",
        "np.set_printoptions(suppress=True)\n",
        "tsl.logger.disabled = True\n",
        "\n",
        "print(f\"tsl version  : {tsl.__version__}\")\n",
        "print(f\"torch version: {torch.__version__}\")"
      ]
    },
    {
      "cell_type": "code",
      "execution_count": 2,
      "metadata": {
        "colab": {
          "base_uri": "https://localhost:8080/"
        },
        "id": "BsPkG4uMYVk5",
        "outputId": "2974f713-a274-4974-f914-cc1dfbd008c5"
      },
      "outputs": [
        {
          "output_type": "stream",
          "name": "stdout",
          "text": [
            "MetrLA(length=34272, n_nodes=207, n_channels=1)\n"
          ]
        }
      ],
      "source": [
        "from tsl.datasets import MetrLA\n",
        "dataset = MetrLA()\n",
        "print(dataset)"
      ]
    },
    {
      "cell_type": "code",
      "execution_count": 3,
      "metadata": {
        "colab": {
          "base_uri": "https://localhost:8080/",
          "height": 504
        },
        "id": "u72R4iL2AJGz",
        "outputId": "c5307a3e-dd18-453f-b28d-1ab76ebe06ce"
      },
      "outputs": [
        {
          "output_type": "execute_result",
          "data": {
            "text/plain": [
              "nodes                   773869     767541     767542     717447     717446  \\\n",
              "channels                     0          0          0          0          0   \n",
              "2012-03-01 00:00:00  64.375000  67.625000  67.125000  61.500000  66.875000   \n",
              "2012-03-01 00:05:00  62.666668  68.555557  65.444443  62.444443  64.444443   \n",
              "2012-03-01 00:10:00  64.000000  63.750000  60.000000  59.000000  66.500000   \n",
              "2012-03-01 00:15:00  64.000000  63.750000  60.000000  59.000000  66.500000   \n",
              "2012-03-01 00:20:00  64.000000  63.750000  60.000000  59.000000  66.500000   \n",
              "\n",
              "nodes                   717445  773062  767620     737529     717816  ...  \\\n",
              "channels                     0       0       0          0          0  ...   \n",
              "2012-03-01 00:00:00  68.750000  65.125  67.125  59.625000  62.750000  ...   \n",
              "2012-03-01 00:05:00  68.111115  65.000  65.000  57.444443  63.333332  ...   \n",
              "2012-03-01 00:10:00  66.250000  64.500  64.250  63.875000  65.375000  ...   \n",
              "2012-03-01 00:15:00  66.250000  64.500  64.250  63.875000  65.375000  ...   \n",
              "2012-03-01 00:20:00  66.250000  64.500  64.250  63.875000  65.375000  ...   \n",
              "\n",
              "nodes                   772167  769372     774204     769806  717590  \\\n",
              "channels                     0       0          0          0       0   \n",
              "2012-03-01 00:00:00  45.625000  65.500  64.500000  66.428574  66.875   \n",
              "2012-03-01 00:05:00  50.666668  69.875  66.666664  58.555557  62.000   \n",
              "2012-03-01 00:10:00  44.125000  69.000  56.500000  59.250000  68.125   \n",
              "2012-03-01 00:15:00  44.125000  69.000  56.500000  59.250000  68.125   \n",
              "2012-03-01 00:20:00  44.125000  69.000  56.500000  59.250000  68.125   \n",
              "\n",
              "nodes                   717592     717595     772168     718141  769373  \n",
              "channels                     0          0          0          0       0  \n",
              "2012-03-01 00:00:00  59.375000  69.000000  59.250000  69.000000  61.875  \n",
              "2012-03-01 00:05:00  61.111111  64.444443  55.888889  68.444443  62.875  \n",
              "2012-03-01 00:10:00  62.500000  65.625000  61.375000  69.857140  62.000  \n",
              "2012-03-01 00:15:00  62.500000  65.625000  61.375000  69.857140  62.000  \n",
              "2012-03-01 00:20:00  62.500000  65.625000  61.375000  69.857140  62.000  \n",
              "\n",
              "[5 rows x 207 columns]"
            ],
            "text/html": [
              "\n",
              "  <div id=\"df-ff1a85fd-7b1b-4f87-bbeb-271607806257\">\n",
              "    <div class=\"colab-df-container\">\n",
              "      <div>\n",
              "<style scoped>\n",
              "    .dataframe tbody tr th:only-of-type {\n",
              "        vertical-align: middle;\n",
              "    }\n",
              "\n",
              "    .dataframe tbody tr th {\n",
              "        vertical-align: top;\n",
              "    }\n",
              "\n",
              "    .dataframe thead tr th {\n",
              "        text-align: left;\n",
              "    }\n",
              "</style>\n",
              "<table border=\"1\" class=\"dataframe\">\n",
              "  <thead>\n",
              "    <tr>\n",
              "      <th>nodes</th>\n",
              "      <th>773869</th>\n",
              "      <th>767541</th>\n",
              "      <th>767542</th>\n",
              "      <th>717447</th>\n",
              "      <th>717446</th>\n",
              "      <th>717445</th>\n",
              "      <th>773062</th>\n",
              "      <th>767620</th>\n",
              "      <th>737529</th>\n",
              "      <th>717816</th>\n",
              "      <th>...</th>\n",
              "      <th>772167</th>\n",
              "      <th>769372</th>\n",
              "      <th>774204</th>\n",
              "      <th>769806</th>\n",
              "      <th>717590</th>\n",
              "      <th>717592</th>\n",
              "      <th>717595</th>\n",
              "      <th>772168</th>\n",
              "      <th>718141</th>\n",
              "      <th>769373</th>\n",
              "    </tr>\n",
              "    <tr>\n",
              "      <th>channels</th>\n",
              "      <th>0</th>\n",
              "      <th>0</th>\n",
              "      <th>0</th>\n",
              "      <th>0</th>\n",
              "      <th>0</th>\n",
              "      <th>0</th>\n",
              "      <th>0</th>\n",
              "      <th>0</th>\n",
              "      <th>0</th>\n",
              "      <th>0</th>\n",
              "      <th>...</th>\n",
              "      <th>0</th>\n",
              "      <th>0</th>\n",
              "      <th>0</th>\n",
              "      <th>0</th>\n",
              "      <th>0</th>\n",
              "      <th>0</th>\n",
              "      <th>0</th>\n",
              "      <th>0</th>\n",
              "      <th>0</th>\n",
              "      <th>0</th>\n",
              "    </tr>\n",
              "  </thead>\n",
              "  <tbody>\n",
              "    <tr>\n",
              "      <th>2012-03-01 00:00:00</th>\n",
              "      <td>64.375000</td>\n",
              "      <td>67.625000</td>\n",
              "      <td>67.125000</td>\n",
              "      <td>61.500000</td>\n",
              "      <td>66.875000</td>\n",
              "      <td>68.750000</td>\n",
              "      <td>65.125</td>\n",
              "      <td>67.125</td>\n",
              "      <td>59.625000</td>\n",
              "      <td>62.750000</td>\n",
              "      <td>...</td>\n",
              "      <td>45.625000</td>\n",
              "      <td>65.500</td>\n",
              "      <td>64.500000</td>\n",
              "      <td>66.428574</td>\n",
              "      <td>66.875</td>\n",
              "      <td>59.375000</td>\n",
              "      <td>69.000000</td>\n",
              "      <td>59.250000</td>\n",
              "      <td>69.000000</td>\n",
              "      <td>61.875</td>\n",
              "    </tr>\n",
              "    <tr>\n",
              "      <th>2012-03-01 00:05:00</th>\n",
              "      <td>62.666668</td>\n",
              "      <td>68.555557</td>\n",
              "      <td>65.444443</td>\n",
              "      <td>62.444443</td>\n",
              "      <td>64.444443</td>\n",
              "      <td>68.111115</td>\n",
              "      <td>65.000</td>\n",
              "      <td>65.000</td>\n",
              "      <td>57.444443</td>\n",
              "      <td>63.333332</td>\n",
              "      <td>...</td>\n",
              "      <td>50.666668</td>\n",
              "      <td>69.875</td>\n",
              "      <td>66.666664</td>\n",
              "      <td>58.555557</td>\n",
              "      <td>62.000</td>\n",
              "      <td>61.111111</td>\n",
              "      <td>64.444443</td>\n",
              "      <td>55.888889</td>\n",
              "      <td>68.444443</td>\n",
              "      <td>62.875</td>\n",
              "    </tr>\n",
              "    <tr>\n",
              "      <th>2012-03-01 00:10:00</th>\n",
              "      <td>64.000000</td>\n",
              "      <td>63.750000</td>\n",
              "      <td>60.000000</td>\n",
              "      <td>59.000000</td>\n",
              "      <td>66.500000</td>\n",
              "      <td>66.250000</td>\n",
              "      <td>64.500</td>\n",
              "      <td>64.250</td>\n",
              "      <td>63.875000</td>\n",
              "      <td>65.375000</td>\n",
              "      <td>...</td>\n",
              "      <td>44.125000</td>\n",
              "      <td>69.000</td>\n",
              "      <td>56.500000</td>\n",
              "      <td>59.250000</td>\n",
              "      <td>68.125</td>\n",
              "      <td>62.500000</td>\n",
              "      <td>65.625000</td>\n",
              "      <td>61.375000</td>\n",
              "      <td>69.857140</td>\n",
              "      <td>62.000</td>\n",
              "    </tr>\n",
              "    <tr>\n",
              "      <th>2012-03-01 00:15:00</th>\n",
              "      <td>64.000000</td>\n",
              "      <td>63.750000</td>\n",
              "      <td>60.000000</td>\n",
              "      <td>59.000000</td>\n",
              "      <td>66.500000</td>\n",
              "      <td>66.250000</td>\n",
              "      <td>64.500</td>\n",
              "      <td>64.250</td>\n",
              "      <td>63.875000</td>\n",
              "      <td>65.375000</td>\n",
              "      <td>...</td>\n",
              "      <td>44.125000</td>\n",
              "      <td>69.000</td>\n",
              "      <td>56.500000</td>\n",
              "      <td>59.250000</td>\n",
              "      <td>68.125</td>\n",
              "      <td>62.500000</td>\n",
              "      <td>65.625000</td>\n",
              "      <td>61.375000</td>\n",
              "      <td>69.857140</td>\n",
              "      <td>62.000</td>\n",
              "    </tr>\n",
              "    <tr>\n",
              "      <th>2012-03-01 00:20:00</th>\n",
              "      <td>64.000000</td>\n",
              "      <td>63.750000</td>\n",
              "      <td>60.000000</td>\n",
              "      <td>59.000000</td>\n",
              "      <td>66.500000</td>\n",
              "      <td>66.250000</td>\n",
              "      <td>64.500</td>\n",
              "      <td>64.250</td>\n",
              "      <td>63.875000</td>\n",
              "      <td>65.375000</td>\n",
              "      <td>...</td>\n",
              "      <td>44.125000</td>\n",
              "      <td>69.000</td>\n",
              "      <td>56.500000</td>\n",
              "      <td>59.250000</td>\n",
              "      <td>68.125</td>\n",
              "      <td>62.500000</td>\n",
              "      <td>65.625000</td>\n",
              "      <td>61.375000</td>\n",
              "      <td>69.857140</td>\n",
              "      <td>62.000</td>\n",
              "    </tr>\n",
              "  </tbody>\n",
              "</table>\n",
              "<p>5 rows × 207 columns</p>\n",
              "</div>\n",
              "      <button class=\"colab-df-convert\" onclick=\"convertToInteractive('df-ff1a85fd-7b1b-4f87-bbeb-271607806257')\"\n",
              "              title=\"Convert this dataframe to an interactive table.\"\n",
              "              style=\"display:none;\">\n",
              "        \n",
              "  <svg xmlns=\"http://www.w3.org/2000/svg\" height=\"24px\"viewBox=\"0 0 24 24\"\n",
              "       width=\"24px\">\n",
              "    <path d=\"M0 0h24v24H0V0z\" fill=\"none\"/>\n",
              "    <path d=\"M18.56 5.44l.94 2.06.94-2.06 2.06-.94-2.06-.94-.94-2.06-.94 2.06-2.06.94zm-11 1L8.5 8.5l.94-2.06 2.06-.94-2.06-.94L8.5 2.5l-.94 2.06-2.06.94zm10 10l.94 2.06.94-2.06 2.06-.94-2.06-.94-.94-2.06-.94 2.06-2.06.94z\"/><path d=\"M17.41 7.96l-1.37-1.37c-.4-.4-.92-.59-1.43-.59-.52 0-1.04.2-1.43.59L10.3 9.45l-7.72 7.72c-.78.78-.78 2.05 0 2.83L4 21.41c.39.39.9.59 1.41.59.51 0 1.02-.2 1.41-.59l7.78-7.78 2.81-2.81c.8-.78.8-2.07 0-2.86zM5.41 20L4 18.59l7.72-7.72 1.47 1.35L5.41 20z\"/>\n",
              "  </svg>\n",
              "      </button>\n",
              "      \n",
              "  <style>\n",
              "    .colab-df-container {\n",
              "      display:flex;\n",
              "      flex-wrap:wrap;\n",
              "      gap: 12px;\n",
              "    }\n",
              "\n",
              "    .colab-df-convert {\n",
              "      background-color: #E8F0FE;\n",
              "      border: none;\n",
              "      border-radius: 50%;\n",
              "      cursor: pointer;\n",
              "      display: none;\n",
              "      fill: #1967D2;\n",
              "      height: 32px;\n",
              "      padding: 0 0 0 0;\n",
              "      width: 32px;\n",
              "    }\n",
              "\n",
              "    .colab-df-convert:hover {\n",
              "      background-color: #E2EBFA;\n",
              "      box-shadow: 0px 1px 2px rgba(60, 64, 67, 0.3), 0px 1px 3px 1px rgba(60, 64, 67, 0.15);\n",
              "      fill: #174EA6;\n",
              "    }\n",
              "\n",
              "    [theme=dark] .colab-df-convert {\n",
              "      background-color: #3B4455;\n",
              "      fill: #D2E3FC;\n",
              "    }\n",
              "\n",
              "    [theme=dark] .colab-df-convert:hover {\n",
              "      background-color: #434B5C;\n",
              "      box-shadow: 0px 1px 3px 1px rgba(0, 0, 0, 0.15);\n",
              "      filter: drop-shadow(0px 1px 2px rgba(0, 0, 0, 0.3));\n",
              "      fill: #FFFFFF;\n",
              "    }\n",
              "  </style>\n",
              "\n",
              "      <script>\n",
              "        const buttonEl =\n",
              "          document.querySelector('#df-ff1a85fd-7b1b-4f87-bbeb-271607806257 button.colab-df-convert');\n",
              "        buttonEl.style.display =\n",
              "          google.colab.kernel.accessAllowed ? 'block' : 'none';\n",
              "\n",
              "        async function convertToInteractive(key) {\n",
              "          const element = document.querySelector('#df-ff1a85fd-7b1b-4f87-bbeb-271607806257');\n",
              "          const dataTable =\n",
              "            await google.colab.kernel.invokeFunction('convertToInteractive',\n",
              "                                                     [key], {});\n",
              "          if (!dataTable) return;\n",
              "\n",
              "          const docLinkHtml = 'Like what you see? Visit the ' +\n",
              "            '<a target=\"_blank\" href=https://colab.research.google.com/notebooks/data_table.ipynb>data table notebook</a>'\n",
              "            + ' to learn more about interactive tables.';\n",
              "          element.innerHTML = '';\n",
              "          dataTable['output_type'] = 'display_data';\n",
              "          await google.colab.output.renderOutput(dataTable, element);\n",
              "          const docLink = document.createElement('div');\n",
              "          docLink.innerHTML = docLinkHtml;\n",
              "          element.appendChild(docLink);\n",
              "        }\n",
              "      </script>\n",
              "    </div>\n",
              "  </div>\n",
              "  "
            ]
          },
          "metadata": {},
          "execution_count": 3
        }
      ],
      "source": [
        "df = dataset.dataframe()\n",
        "df.head()"
      ]
    },
    {
      "cell_type": "code",
      "execution_count": 4,
      "metadata": {
        "colab": {
          "base_uri": "https://localhost:8080/",
          "height": 350
        },
        "id": "CNQvmWtyISVr",
        "outputId": "0012f74f-c2eb-4698-e63c-24f4b25fd292"
      },
      "outputs": [
        {
          "output_type": "stream",
          "name": "stderr",
          "text": [
            "/usr/local/lib/python3.7/dist-packages/seaborn/distributions.py:2619: FutureWarning: `distplot` is a deprecated function and will be removed in a future version. Please adapt your code to use either `displot` (a figure-level function with similar flexibility) or `kdeplot` (an axes-level function for kernel density plots).\n",
            "  warnings.warn(msg, FutureWarning)\n"
          ]
        },
        {
          "output_type": "display_data",
          "data": {
            "text/plain": [
              "<Figure size 432x288 with 1 Axes>"
            ],
            "image/png": "[encoded data removed]"
          },
          "metadata": {
            "needs_background": "light"
          }
        }
      ],
      "source": [
        "ax = sns.distplot(df, kde=True, hist=False)\n",
        "plt.xlabel(\"Speed\")\n",
        "plt.ylabel(\"Density\")\n",
        "plt.title(\"Whole Data\")\n",
        "plt.show(ax)"
      ]
    },
    {
      "cell_type": "code",
      "source": [
        "p1, p2, p3 = df['773869'], df['767541'], df['767542']"
      ],
      "metadata": {
        "id": "b9nQgLnzmN7t"
      },
      "execution_count": 5,
      "outputs": []
    },
    {
      "cell_type": "code",
      "source": [
        "p1.quantile(0.025), p1.quantile(0.975)"
      ],
      "metadata": {
        "colab": {
          "base_uri": "https://localhost:8080/"
        },
        "id": "ExsrXPHWmWes",
        "outputId": "5e55f45f-16ec-4e49-a327-aa7686fcec31"
      },
      "execution_count": 6,
      "outputs": [
        {
          "output_type": "execute_result",
          "data": {
            "text/plain": [
              "(channels\n",
              " 0    17.25\n",
              " Name: 0.025, dtype: float64, channels\n",
              " 0    69.0\n",
              " Name: 0.975, dtype: float64)"
            ]
          },
          "metadata": {},
          "execution_count": 6
        }
      ]
    },
    {
      "cell_type": "code",
      "source": [
        "p2.quantile(0.025), p2.quantile(0.975)"
      ],
      "metadata": {
        "colab": {
          "base_uri": "https://localhost:8080/"
        },
        "id": "VCTE4mwrmngH",
        "outputId": "9bab7401-d08f-4ba8-a12f-eba693c7896b"
      },
      "execution_count": 7,
      "outputs": [
        {
          "output_type": "execute_result",
          "data": {
            "text/plain": [
              "(channels\n",
              " 0    56.375\n",
              " Name: 0.025, dtype: float64, channels\n",
              " 0    68.111115\n",
              " Name: 0.975, dtype: float64)"
            ]
          },
          "metadata": {},
          "execution_count": 7
        }
      ]
    },
    {
      "cell_type": "code",
      "source": [
        "p3.quantile(0.025), p3.quantile(0.975)"
      ],
      "metadata": {
        "colab": {
          "base_uri": "https://localhost:8080/"
        },
        "id": "H_wvJhjLmnia",
        "outputId": "916cef1e-6eb6-435b-fb85-63b4f3e2c6d2"
      },
      "execution_count": 8,
      "outputs": [
        {
          "output_type": "execute_result",
          "data": {
            "text/plain": [
              "(channels\n",
              " 0    24.777779\n",
              " Name: 0.025, dtype: float64, channels\n",
              " 0    69.625\n",
              " Name: 0.975, dtype: float64)"
            ]
          },
          "metadata": {},
          "execution_count": 8
        }
      ]
    },
    {
      "cell_type": "code",
      "execution_count": 9,
      "metadata": {
        "colab": {
          "base_uri": "https://localhost:8080/",
          "height": 419
        },
        "id": "QTbRYGifD98i",
        "outputId": "08a12f9d-058e-4575-add6-04f93fc2213b"
      },
      "outputs": [
        {
          "output_type": "stream",
          "name": "stderr",
          "text": [
            "/usr/local/lib/python3.7/dist-packages/seaborn/distributions.py:2619: FutureWarning: `distplot` is a deprecated function and will be removed in a future version. Please adapt your code to use either `displot` (a figure-level function with similar flexibility) or `kdeplot` (an axes-level function for kernel density plots).\n",
            "  warnings.warn(msg, FutureWarning)\n",
            "/usr/local/lib/python3.7/dist-packages/seaborn/distributions.py:2619: FutureWarning: `distplot` is a deprecated function and will be removed in a future version. Please adapt your code to use either `displot` (a figure-level function with similar flexibility) or `kdeplot` (an axes-level function for kernel density plots).\n",
            "  warnings.warn(msg, FutureWarning)\n",
            "/usr/local/lib/python3.7/dist-packages/seaborn/distributions.py:2619: FutureWarning: `distplot` is a deprecated function and will be removed in a future version. Please adapt your code to use either `displot` (a figure-level function with similar flexibility) or `kdeplot` (an axes-level function for kernel density plots).\n",
            "  warnings.warn(msg, FutureWarning)\n"
          ]
        },
        {
          "output_type": "display_data",
          "data": {
            "text/plain": [
              "<Figure size 432x288 with 1 Axes>"
            ],
            "image/png": "[encoded data removed]"
          },
          "metadata": {
            "needs_background": "light"
          }
        }
      ],
      "source": [
        "p1, p2, p3 = df['773869'], df['767541'], df['767542']\n",
        "ax1 = sns.distplot(p1, kde=True, hist=False, label='773869', color = 'r')\n",
        "ax1.axvline(17.25, 0, 0.6, color = 'r')\n",
        "ax1.axvline(69, 0, 0.6, color = 'r')\n",
        "ax2 = sns.distplot(p2, kde=True, hist=False, label='767541', color = 'g')\n",
        "ax2.axvline(56.375, 0, 0.95, color = 'g')\n",
        "ax2.axvline(68.11, 0, 0.95, color = 'g')\n",
        "ax3 = sns.distplot(p3, kde=True, hist=False, label='767542', color = 'b')\n",
        "ax3.axvline(24.78, 0, 0.85, color = 'b')\n",
        "ax3.axvline(69.63, 0, 0.85, color = 'b')\n",
        "plt.xlabel(\"Speed\")\n",
        "plt.ylabel(\"Density\")\n",
        "plt.title(\"First 3 detectors\")\n",
        "plt.legend()\n",
        "plt.show(ax1)\n",
        "plt.show(ax2)\n",
        "plt.show(ax3)"
      ]
    }
  ],
  "metadata": {
    "accelerator": "GPU",
    "colab": {
      "collapsed_sections": [],
      "name": "GDL_plot.ipynb",
      "provenance": []
    },
    "kernelspec": {
      "display_name": "Python 3 (ipykernel)",
      "language": "python",
      "name": "python3"
    },
    "language_info": {
      "codemirror_mode": {
        "name": "ipython",
        "version": 3
      },
      "file_extension": ".py",
      "mimetype": "text/x-python",
      "name": "python",
      "nbconvert_exporter": "python",
      "pygments_lexer": "ipython3",
      "version": "3.8.12"
    }
  },
  "nbformat": 4,
  "nbformat_minor": 0
}