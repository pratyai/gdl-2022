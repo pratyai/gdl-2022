{
  "cells": [
    {
      "cell_type": "code",
      "execution_count": null,
      "metadata": {
        "id": "xJwaWoSrYVk3"
      },
      "outputs": [],
      "source": [
        "!git clone https://github.com/TorchSpatiotemporal/tsl.git\n",
        "!pip install torch==1.10.1+cu111 torchvision==0.11.2+cu111 torchaudio==0.10.1 -f https://download.pytorch.org/whl/torch_stable.html\n",
        "!pip install torch-scatter torch-sparse torch-geometric -f https://data.pyg.org/whl/torch-1.10.1+cu113.html\n",
        "!pip install ./tsl"
      ]
    },
    {
      "cell_type": "code",
      "execution_count": 10,
      "metadata": {
        "id": "hLAxpbejYVk4",
        "colab": {
          "base_uri": "https://localhost:8080/"
        },
        "outputId": "e91f2398-2738-46ab-cb69-8d8eb476e9cc"
      },
      "outputs": [
        {
          "output_type": "stream",
          "name": "stdout",
          "text": [
            "tsl version  : 0.1.0\n",
            "torch version: 1.10.1+cu111\n"
          ]
        }
      ],
      "source": [
        "import tsl\n",
        "import torch\n",
        "import numpy as np\n",
        "import seaborn as sns\n",
        "import matplotlib.pyplot as plt\n",
        "\n",
        "np.set_printoptions(suppress=True)\n",
        "tsl.logger.disabled = True\n",
        "\n",
        "print(f\"tsl version  : {tsl.__version__}\")\n",
        "print(f\"torch version: {torch.__version__}\")"
      ]
    },
    {
      "cell_type": "code",
      "execution_count": 11,
      "metadata": {
        "id": "BsPkG4uMYVk5",
        "colab": {
          "base_uri": "https://localhost:8080/"
        },
        "outputId": "9643f768-53d2-4e6c-b75a-8928dd2388cd"
      },
      "outputs": [
        {
          "output_type": "stream",
          "name": "stdout",
          "text": [
            "MetrLA(length=34272, n_nodes=207, n_channels=1)\n"
          ]
        }
      ],
      "source": [
        "from tsl.datasets import MetrLA\n",
        "dataset = MetrLA()\n",
        "print(dataset)"
      ]
    },
    {
      "cell_type": "code",
      "source": [
        "df = dataset.dataframe()\n",
        "df.head()"
      ],
      "metadata": {
        "colab": {
          "base_uri": "https://localhost:8080/",
          "height": 504
        },
        "id": "u72R4iL2AJGz",
        "outputId": "860ae551-9f78-4184-af55-e4419e2faf01"
      },
      "execution_count": 7,
      "outputs": [
        {
          "output_type": "execute_result",
          "data": {
            "text/plain": [
              "nodes                   773869     767541     767542     717447     717446  \\\n",
              "channels                     0          0          0          0          0   \n",
              "2012-03-01 00:00:00  64.375000  67.625000  67.125000  61.500000  66.875000   \n",
              "2012-03-01 00:05:00  62.666668  68.555557  65.444443  62.444443  64.444443   \n",
              "2012-03-01 00:10:00  64.000000  63.750000  60.000000  59.000000  66.500000   \n",
              "2012-03-01 00:15:00  64.000000  63.750000  60.000000  59.000000  66.500000   \n",
              "2012-03-01 00:20:00  64.000000  63.750000  60.000000  59.000000  66.500000   \n",
              "\n",
              "nodes                   717445  773062  767620     737529     717816  ...  \\\n",
              "channels                     0       0       0          0          0  ...   \n",
              "2012-03-01 00:00:00  68.750000  65.125  67.125  59.625000  62.750000  ...   \n",
              "2012-03-01 00:05:00  68.111115  65.000  65.000  57.444443  63.333332  ...   \n",
              "2012-03-01 00:10:00  66.250000  64.500  64.250  63.875000  65.375000  ...   \n",
              "2012-03-01 00:15:00  66.250000  64.500  64.250  63.875000  65.375000  ...   \n",
              "2012-03-01 00:20:00  66.250000  64.500  64.250  63.875000  65.375000  ...   \n",
              "\n",
              "nodes                   772167  769372     774204     769806  717590  \\\n",
              "channels                     0       0          0          0       0   \n",
              "2012-03-01 00:00:00  45.625000  65.500  64.500000  66.428574  66.875   \n",
              "2012-03-01 00:05:00  50.666668  69.875  66.666664  58.555557  62.000   \n",
              "2012-03-01 00:10:00  44.125000  69.000  56.500000  59.250000  68.125   \n",
              "2012-03-01 00:15:00  44.125000  69.000  56.500000  59.250000  68.125   \n",
              "2012-03-01 00:20:00  44.125000  69.000  56.500000  59.250000  68.125   \n",
              "\n",
              "nodes                   717592     717595     772168     718141  769373  \n",
              "channels                     0          0          0          0       0  \n",
              "2012-03-01 00:00:00  59.375000  69.000000  59.250000  69.000000  61.875  \n",
              "2012-03-01 00:05:00  61.111111  64.444443  55.888889  68.444443  62.875  \n",
              "2012-03-01 00:10:00  62.500000  65.625000  61.375000  69.857140  62.000  \n",
              "2012-03-01 00:15:00  62.500000  65.625000  61.375000  69.857140  62.000  \n",
              "2012-03-01 00:20:00  62.500000  65.625000  61.375000  69.857140  62.000  \n",
              "\n",
              "[5 rows x 207 columns]"
            ],
            "text/html": [
              "\n",
              "  <div id=\"df-30f86e6d-0f1d-4fa6-90e6-9337b07476bf\">\n",
              "    <div class=\"colab-df-container\">\n",
              "      <div>\n",
              "<style scoped>\n",
              "    .dataframe tbody tr th:only-of-type {\n",
              "        vertical-align: middle;\n",
              "    }\n",
              "\n",
              "    .dataframe tbody tr th {\n",
              "        vertical-align: top;\n",
              "    }\n",
              "\n",
              "    .dataframe thead tr th {\n",
              "        text-align: left;\n",
              "    }\n",
              "</style>\n",
              "<table border=\"1\" class=\"dataframe\">\n",
              "  <thead>\n",
              "    <tr>\n",
              "      <th>nodes</th>\n",
              "      <th>773869</th>\n",
              "      <th>767541</th>\n",
              "      <th>767542</th>\n",
              "      <th>717447</th>\n",
              "      <th>717446</th>\n",
              "      <th>717445</th>\n",
              "      <th>773062</th>\n",
              "      <th>767620</th>\n",
              "      <th>737529</th>\n",
              "      <th>717816</th>\n",
              "      <th>...</th>\n",
              "      <th>772167</th>\n",
              "      <th>769372</th>\n",
              "      <th>774204</th>\n",
              "      <th>769806</th>\n",
              "      <th>717590</th>\n",
              "      <th>717592</th>\n",
              "      <th>717595</th>\n",
              "      <th>772168</th>\n",
              "      <th>718141</th>\n",
              "      <th>769373</th>\n",
              "    </tr>\n",
              "    <tr>\n",
              "      <th>channels</th>\n",
              "      <th>0</th>\n",
              "      <th>0</th>\n",
              "      <th>0</th>\n",
              "      <th>0</th>\n",
              "      <th>0</th>\n",
              "      <th>0</th>\n",
              "      <th>0</th>\n",
              "      <th>0</th>\n",
              "      <th>0</th>\n",
              "      <th>0</th>\n",
              "      <th>...</th>\n",
              "      <th>0</th>\n",
              "      <th>0</th>\n",
              "      <th>0</th>\n",
              "      <th>0</th>\n",
              "      <th>0</th>\n",
              "      <th>0</th>\n",
              "      <th>0</th>\n",
              "      <th>0</th>\n",
              "      <th>0</th>\n",
              "      <th>0</th>\n",
              "    </tr>\n",
              "  </thead>\n",
              "  <tbody>\n",
              "    <tr>\n",
              "      <th>2012-03-01 00:00:00</th>\n",
              "      <td>64.375000</td>\n",
              "      <td>67.625000</td>\n",
              "      <td>67.125000</td>\n",
              "      <td>61.500000</td>\n",
              "      <td>66.875000</td>\n",
              "      <td>68.750000</td>\n",
              "      <td>65.125</td>\n",
              "      <td>67.125</td>\n",
              "      <td>59.625000</td>\n",
              "      <td>62.750000</td>\n",
              "      <td>...</td>\n",
              "      <td>45.625000</td>\n",
              "      <td>65.500</td>\n",
              "      <td>64.500000</td>\n",
              "      <td>66.428574</td>\n",
              "      <td>66.875</td>\n",
              "      <td>59.375000</td>\n",
              "      <td>69.000000</td>\n",
              "      <td>59.250000</td>\n",
              "      <td>69.000000</td>\n",
              "      <td>61.875</td>\n",
              "    </tr>\n",
              "    <tr>\n",
              "      <th>2012-03-01 00:05:00</th>\n",
              "      <td>62.666668</td>\n",
              "      <td>68.555557</td>\n",
              "      <td>65.444443</td>\n",
              "      <td>62.444443</td>\n",
              "      <td>64.444443</td>\n",
              "      <td>68.111115</td>\n",
              "      <td>65.000</td>\n",
              "      <td>65.000</td>\n",
              "      <td>57.444443</td>\n",
              "      <td>63.333332</td>\n",
              "      <td>...</td>\n",
              "      <td>50.666668</td>\n",
              "      <td>69.875</td>\n",
              "      <td>66.666664</td>\n",
              "      <td>58.555557</td>\n",
              "      <td>62.000</td>\n",
              "      <td>61.111111</td>\n",
              "      <td>64.444443</td>\n",
              "      <td>55.888889</td>\n",
              "      <td>68.444443</td>\n",
              "      <td>62.875</td>\n",
              "    </tr>\n",
              "    <tr>\n",
              "      <th>2012-03-01 00:10:00</th>\n",
              "      <td>64.000000</td>\n",
              "      <td>63.750000</td>\n",
              "      <td>60.000000</td>\n",
              "      <td>59.000000</td>\n",
              "      <td>66.500000</td>\n",
              "      <td>66.250000</td>\n",
              "      <td>64.500</td>\n",
              "      <td>64.250</td>\n",
              "      <td>63.875000</td>\n",
              "      <td>65.375000</td>\n",
              "      <td>...</td>\n",
              "      <td>44.125000</td>\n",
              "      <td>69.000</td>\n",
              "      <td>56.500000</td>\n",
              "      <td>59.250000</td>\n",
              "      <td>68.125</td>\n",
              "      <td>62.500000</td>\n",
              "      <td>65.625000</td>\n",
              "      <td>61.375000</td>\n",
              "      <td>69.857140</td>\n",
              "      <td>62.000</td>\n",
              "    </tr>\n",
              "    <tr>\n",
              "      <th>2012-03-01 00:15:00</th>\n",
              "      <td>64.000000</td>\n",
              "      <td>63.750000</td>\n",
              "      <td>60.000000</td>\n",
              "      <td>59.000000</td>\n",
              "      <td>66.500000</td>\n",
              "      <td>66.250000</td>\n",
              "      <td>64.500</td>\n",
              "      <td>64.250</td>\n",
              "      <td>63.875000</td>\n",
              "      <td>65.375000</td>\n",
              "      <td>...</td>\n",
              "      <td>44.125000</td>\n",
              "      <td>69.000</td>\n",
              "      <td>56.500000</td>\n",
              "      <td>59.250000</td>\n",
              "      <td>68.125</td>\n",
              "      <td>62.500000</td>\n",
              "      <td>65.625000</td>\n",
              "      <td>61.375000</td>\n",
              "      <td>69.857140</td>\n",
              "      <td>62.000</td>\n",
              "    </tr>\n",
              "    <tr>\n",
              "      <th>2012-03-01 00:20:00</th>\n",
              "      <td>64.000000</td>\n",
              "      <td>63.750000</td>\n",
              "      <td>60.000000</td>\n",
              "      <td>59.000000</td>\n",
              "      <td>66.500000</td>\n",
              "      <td>66.250000</td>\n",
              "      <td>64.500</td>\n",
              "      <td>64.250</td>\n",
              "      <td>63.875000</td>\n",
              "      <td>65.375000</td>\n",
              "      <td>...</td>\n",
              "      <td>44.125000</td>\n",
              "      <td>69.000</td>\n",
              "      <td>56.500000</td>\n",
              "      <td>59.250000</td>\n",
              "      <td>68.125</td>\n",
              "      <td>62.500000</td>\n",
              "      <td>65.625000</td>\n",
              "      <td>61.375000</td>\n",
              "      <td>69.857140</td>\n",
              "      <td>62.000</td>\n",
              "    </tr>\n",
              "  </tbody>\n",
              "</table>\n",
              "<p>5 rows × 207 columns</p>\n",
              "</div>\n",
              "      <button class=\"colab-df-convert\" onclick=\"convertToInteractive('df-30f86e6d-0f1d-4fa6-90e6-9337b07476bf')\"\n",
              "              title=\"Convert this dataframe to an interactive table.\"\n",
              "              style=\"display:none;\">\n",
              "        \n",
              "  <svg xmlns=\"http://www.w3.org/2000/svg\" height=\"24px\"viewBox=\"0 0 24 24\"\n",
              "       width=\"24px\">\n",
              "    <path d=\"M0 0h24v24H0V0z\" fill=\"none\"/>\n",
              "    <path d=\"M18.56 5.44l.94 2.06.94-2.06 2.06-.94-2.06-.94-.94-2.06-.94 2.06-2.06.94zm-11 1L8.5 8.5l.94-2.06 2.06-.94-2.06-.94L8.5 2.5l-.94 2.06-2.06.94zm10 10l.94 2.06.94-2.06 2.06-.94-2.06-.94-.94-2.06-.94 2.06-2.06.94z\"/><path d=\"M17.41 7.96l-1.37-1.37c-.4-.4-.92-.59-1.43-.59-.52 0-1.04.2-1.43.59L10.3 9.45l-7.72 7.72c-.78.78-.78 2.05 0 2.83L4 21.41c.39.39.9.59 1.41.59.51 0 1.02-.2 1.41-.59l7.78-7.78 2.81-2.81c.8-.78.8-2.07 0-2.86zM5.41 20L4 18.59l7.72-7.72 1.47 1.35L5.41 20z\"/>\n",
              "  </svg>\n",
              "      </button>\n",
              "      \n",
              "  <style>\n",
              "    .colab-df-container {\n",
              "      display:flex;\n",
              "      flex-wrap:wrap;\n",
              "      gap: 12px;\n",
              "    }\n",
              "\n",
              "    .colab-df-convert {\n",
              "      background-color: #E8F0FE;\n",
              "      border: none;\n",
              "      border-radius: 50%;\n",
              "      cursor: pointer;\n",
              "      display: none;\n",
              "      fill: #1967D2;\n",
              "      height: 32px;\n",
              "      padding: 0 0 0 0;\n",
              "      width: 32px;\n",
              "    }\n",
              "\n",
              "    .colab-df-convert:hover {\n",
              "      background-color: #E2EBFA;\n",
              "      box-shadow: 0px 1px 2px rgba(60, 64, 67, 0.3), 0px 1px 3px 1px rgba(60, 64, 67, 0.15);\n",
              "      fill: #174EA6;\n",
              "    }\n",
              "\n",
              "    [theme=dark] .colab-df-convert {\n",
              "      background-color: #3B4455;\n",
              "      fill: #D2E3FC;\n",
              "    }\n",
              "\n",
              "    [theme=dark] .colab-df-convert:hover {\n",
              "      background-color: #434B5C;\n",
              "      box-shadow: 0px 1px 3px 1px rgba(0, 0, 0, 0.15);\n",
              "      filter: drop-shadow(0px 1px 2px rgba(0, 0, 0, 0.3));\n",
              "      fill: #FFFFFF;\n",
              "    }\n",
              "  </style>\n",
              "\n",
              "      <script>\n",
              "        const buttonEl =\n",
              "          document.querySelector('#df-30f86e6d-0f1d-4fa6-90e6-9337b07476bf button.colab-df-convert');\n",
              "        buttonEl.style.display =\n",
              "          google.colab.kernel.accessAllowed ? 'block' : 'none';\n",
              "\n",
              "        async function convertToInteractive(key) {\n",
              "          const element = document.querySelector('#df-30f86e6d-0f1d-4fa6-90e6-9337b07476bf');\n",
              "          const dataTable =\n",
              "            await google.colab.kernel.invokeFunction('convertToInteractive',\n",
              "                                                     [key], {});\n",
              "          if (!dataTable) return;\n",
              "\n",
              "          const docLinkHtml = 'Like what you see? Visit the ' +\n",
              "            '<a target=\"_blank\" href=https://colab.research.google.com/notebooks/data_table.ipynb>data table notebook</a>'\n",
              "            + ' to learn more about interactive tables.';\n",
              "          element.innerHTML = '';\n",
              "          dataTable['output_type'] = 'display_data';\n",
              "          await google.colab.output.renderOutput(dataTable, element);\n",
              "          const docLink = document.createElement('div');\n",
              "          docLink.innerHTML = docLinkHtml;\n",
              "          element.appendChild(docLink);\n",
              "        }\n",
              "      </script>\n",
              "    </div>\n",
              "  </div>\n",
              "  "
            ]
          },
          "metadata": {},
          "execution_count": 7
        }
      ]
    },
    {
      "cell_type": "code",
      "source": [
        "ax = sns.distplot(df, kde=True, bins=200, hist=True)\n",
        "plt.xlabel(\"Speed\")\n",
        "plt.ylabel(\"Density\")\n",
        "plt.show(ax)"
      ],
      "metadata": {
        "colab": {
          "base_uri": "https://localhost:8080/",
          "height": 334
        },
        "id": "CNQvmWtyISVr",
        "outputId": "293ef8c9-aa32-4f15-cac4-005587e2bcc6"
      },
      "execution_count": 8,
      "outputs": [
        {
          "output_type": "stream",
          "name": "stderr",
          "text": [
            "/usr/local/lib/python3.7/dist-packages/seaborn/distributions.py:2619: FutureWarning: `distplot` is a deprecated function and will be removed in a future version. Please adapt your code to use either `displot` (a figure-level function with similar flexibility) or `histplot` (an axes-level function for histograms).\n",
            "  warnings.warn(msg, FutureWarning)\n"
          ]
        },
        {
          "output_type": "display_data",
          "data": {
            "text/plain": [
              "<Figure size 432x288 with 1 Axes>"
            ],
            "image/png": "[encoded data removed]"
          },
          "metadata": {
            "needs_background": "light"
          }
        }
      ]
    },
    {
      "cell_type": "code",
      "source": [
        "p1, p2, p3 = df['773869'], df['767541'], df['767542']\n",
        "ax1 = sns.distplot(p1, kde=True, bins=100, hist=True, label='773869')\n",
        "ax2 = sns.distplot(p2, kde=True, bins=100, hist=True, label='767541')\n",
        "ax3 = sns.distplot(p3, kde=True, bins=100, hist=True, label='767542')\n",
        "plt.xlabel(\"Speed\")\n",
        "plt.ylabel(\"Density\")\n",
        "plt.legend()\n",
        "plt.show(ax1)\n",
        "plt.show(ax2)\n",
        "plt.show(ax3)"
      ],
      "metadata": {
        "colab": {
          "base_uri": "https://localhost:8080/",
          "height": 403
        },
        "id": "QTbRYGifD98i",
        "outputId": "a2a40726-37ae-475b-a8f2-f81e9cb8070b"
      },
      "execution_count": 9,
      "outputs": [
        {
          "output_type": "stream",
          "name": "stderr",
          "text": [
            "/usr/local/lib/python3.7/dist-packages/seaborn/distributions.py:2619: FutureWarning: `distplot` is a deprecated function and will be removed in a future version. Please adapt your code to use either `displot` (a figure-level function with similar flexibility) or `histplot` (an axes-level function for histograms).\n",
            "  warnings.warn(msg, FutureWarning)\n",
            "/usr/local/lib/python3.7/dist-packages/seaborn/distributions.py:2619: FutureWarning: `distplot` is a deprecated function and will be removed in a future version. Please adapt your code to use either `displot` (a figure-level function with similar flexibility) or `histplot` (an axes-level function for histograms).\n",
            "  warnings.warn(msg, FutureWarning)\n",
            "/usr/local/lib/python3.7/dist-packages/seaborn/distributions.py:2619: FutureWarning: `distplot` is a deprecated function and will be removed in a future version. Please adapt your code to use either `displot` (a figure-level function with similar flexibility) or `histplot` (an axes-level function for histograms).\n",
            "  warnings.warn(msg, FutureWarning)\n"
          ]
        },
        {
          "output_type": "display_data",
          "data": {
            "text/plain": [
              "<Figure size 432x288 with 1 Axes>"
            ],
            "image/png": "[encoded data removed]"
          },
          "metadata": {
            "needs_background": "light"
          }
        }
      ]
    }
  ],
  "metadata": {
    "accelerator": "GPU",
    "colab": {
      "name": "GDL_plot.ipynb",
      "provenance": [],
      "collapsed_sections": []
    },
    "kernelspec": {
      "display_name": "Python 3 (ipykernel)",
      "language": "python",
      "name": "python3"
    },
    "language_info": {
      "codemirror_mode": {
        "name": "ipython",
        "version": 3
      },
      "file_extension": ".py",
      "mimetype": "text/x-python",
      "name": "python",
      "nbconvert_exporter": "python",
      "pygments_lexer": "ipython3",
      "version": "3.8.12"
    }
  },
  "nbformat": 4,
  "nbformat_minor": 0
}